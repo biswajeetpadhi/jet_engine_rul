{
 "cells": [
  {
   "cell_type": "code",
   "execution_count": 7,
   "metadata": {
    "collapsed": true,
    "pycharm": {
     "name": "#%%\n"
    }
   },
   "outputs": [],
   "source": [
    "import pandas as pd"
   ]
  },
  {
   "cell_type": "code",
   "execution_count": 8,
   "metadata": {
    "collapsed": false,
    "pycharm": {
     "name": "#%%\n"
    }
   },
   "outputs": [],
   "source": [
    "RUL_FD001 = pd.read_csv('RUL_FD001.txt', sep = ' ', header = None, encoding='utf-8').to_csv('RUL_FD001.csv', encoding=\"utf-8\")\n",
    "RUL_FD002 = pd.read_csv('RUL_FD002.txt', sep = ' ', header = None, encoding='utf-8').to_csv('RUL_FD002.csv', encoding=\"utf-8\")\n",
    "RUL_FD003 = pd.read_csv('RUL_FD003.txt', sep = ' ', header = None, encoding='utf-8').to_csv('RUL_FD003.csv', encoding=\"utf-8\")\n",
    "RUL_FD004 = pd.read_csv('RUL_FD004.txt', sep = ' ', header = None, encoding='utf-8').to_csv('RUL_FD004.csv', encoding=\"utf-8\")"
   ]
  },
  {
   "cell_type": "code",
   "execution_count": 9,
   "metadata": {
    "collapsed": false,
    "pycharm": {
     "name": "#%%\n"
    }
   },
   "outputs": [],
   "source": [
    "test_FD001 = pd.read_csv('test_FD001.txt', sep = ' ', header = None, encoding='utf-8').to_csv('test_FD001.csv', encoding='utf-8')\n",
    "test_FD002 = pd.read_csv('test_FD002.txt', sep = ' ', header = None,  encoding='utf-8').to_csv('test_FD002.csv', encoding='utf-8')\n",
    "test_FD003 = pd.read_csv('test_FD003.txt', sep = ' ', header = None,  encoding='utf-8').to_csv('test_FD003.csv', encoding='utf-8')\n",
    "test_FD004 = pd.read_csv('test_FD004.txt', sep = ' ', header = None,  encoding='utf-8').to_csv('test_FD004.csv', encoding='utf-8')"
   ]
  },
  {
   "cell_type": "code",
   "execution_count": 13,
   "metadata": {
    "collapsed": false,
    "pycharm": {
     "name": "#%%\n"
    }
   },
   "outputs": [],
   "source": [
    "train_FD001 = pd.read_csv('train_FD001.txt', sep = ' ', header = None, encoding='utf-8').to_csv('train_FD001.csv', encoding='utf-8')\n",
    "train_FD002 = pd.read_csv('train_FD002.txt', sep = ' ', header = None, encoding='utf-8').to_csv('train_FD002.csv', encoding='utf-8')\n",
    "train_FD003 = pd.read_csv('train_FD003.txt', sep = ' ', header = None, encoding='utf-8').to_csv('train_FD003.csv', encoding='utf-8')\n",
    "train_FD004 = pd.read_csv('train_FD004.txt', sep = ' ', header = None, encoding='utf-8').to_csv('train_FD004.csv', encoding='utf-8')"
   ]
  },
  {
   "cell_type": "code",
   "execution_count": null,
   "metadata": {
    "collapsed": false,
    "pycharm": {
     "name": "#%%\n"
    }
   },
   "outputs": [],
   "source": []
  }
 ],
 "metadata": {
  "kernelspec": {
   "display_name": "Python 3",
   "language": "python",
   "name": "python3"
  },
  "language_info": {
   "codemirror_mode": {
    "name": "ipython",
    "version": 2
   },
   "file_extension": ".py",
   "mimetype": "text/x-python",
   "name": "python",
   "nbconvert_exporter": "python",
   "pygments_lexer": "ipython2",
   "version": "2.7.6"
  }
 },
 "nbformat": 4,
 "nbformat_minor": 0
}
